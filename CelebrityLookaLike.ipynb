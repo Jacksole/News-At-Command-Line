{
  "nbformat": 4,
  "nbformat_minor": 0,
  "metadata": {
    "colab": {
      "name": "CelebrityLookaLike.ipynb",
      "provenance": [],
      "collapsed_sections": [],
      "authorship_tag": "ABX9TyPrwE6MZj2jCVoutPSBJsmT",
      "include_colab_link": true
    },
    "kernelspec": {
      "name": "python3",
      "display_name": "Python 3"
    }
  },
  "cells": [
    {
      "cell_type": "markdown",
      "metadata": {
        "id": "view-in-github",
        "colab_type": "text"
      },
      "source": [
        "<a href=\"https://colab.research.google.com/github/Jacksole/News-At-Command-Line/blob/master/CelebrityLookaLike.ipynb\" target=\"_parent\"><img src=\"https://colab.research.google.com/assets/colab-badge.svg\" alt=\"Open In Colab\"/></a>"
      ]
    },
    {
      "cell_type": "code",
      "metadata": {
        "id": "8Qp0Tsj4S3cE",
        "colab_type": "code",
        "colab": {}
      },
      "source": [
        "!pip install mtcnn\n",
        "!pip install keras_vggface\n",
        "!pip install tensorflow\n",
        "!pip install keras\n",
        "!pip install opencv\n",
        "!pip install PIL"
      ],
      "execution_count": 0,
      "outputs": []
    }
  ]
}